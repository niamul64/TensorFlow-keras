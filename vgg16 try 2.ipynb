{
 "cells": [
  {
   "cell_type": "code",
   "execution_count": 11,
   "metadata": {},
   "outputs": [],
   "source": [
    "import tensorflow.keras,os\n",
    "from tensorflow.keras.models import Sequential\n",
    "from tensorflow.keras.layers import Conv2D\n",
    "from tensorflow.keras.layers import MaxPool2D\n",
    "from tensorflow.keras.layers import Flatten\n",
    "from tensorflow.keras.layers import Dense\n",
    "from tensorflow.keras.applications import VGG16\n",
    "from tensorflow.keras.preprocessing.image import ImageDataGenerator\n",
    "import numpy as np\n",
    "from tensorflow.keras import layers"
   ]
  },
  {
   "cell_type": "code",
   "execution_count": 12,
   "metadata": {},
   "outputs": [
    {
     "name": "stdout",
     "output_type": "stream",
     "text": [
      "Found 1970 images belonging to 2 classes.\n",
      "Found 22 images belonging to 2 classes.\n"
     ]
    }
   ],
   "source": [
    "trdata = ImageDataGenerator()\n",
    "traindata = trdata.flow_from_directory(directory = 'frame/training',target_size = (224,224))\n",
    "tsdata = ImageDataGenerator()\n",
    "testdata = tsdata.flow_from_directory(directory='frame/validation', target_size = (224,224))"
   ]
  },
  {
   "cell_type": "code",
   "execution_count": 13,
   "metadata": {},
   "outputs": [],
   "source": [
    "IMAGE_SIZE = [224, 224]\n",
    "VGG= VGG16(input_shape = IMAGE_SIZE + [3], weights = 'imagenet', include_top = False)"
   ]
  },
  {
   "cell_type": "code",
   "execution_count": 14,
   "metadata": {},
   "outputs": [],
   "source": [
    "VGG.trainable = False\n",
    "model = Sequential([\n",
    "    VGG,\n",
    "    layers.Flatten(),\n",
    "    layers.Dense(units = 256, activation = \"relu\"),\n",
    "    layers.Dense(units = 256, activation = \"relu\"),\n",
    "    layers.Dense(units = 2,activation = \"softmax\"),\n",
    "     \n",
    "])\n",
    "\n",
    "model.compile(optimizer = 'adam', loss = keras.losses.categorical_crossentropy, metrics=['accuracy'])"
   ]
  },
  {
   "cell_type": "code",
   "execution_count": 15,
   "metadata": {},
   "outputs": [
    {
     "name": "stdout",
     "output_type": "stream",
     "text": [
      "_________________________________________________________________\n",
      "Layer (type)                 Output Shape              Param #   \n",
      "=================================================================\n",
      "vgg16 (Model)                (None, 7, 7, 512)         14714688  \n",
      "_________________________________________________________________\n",
      "flatten (Flatten)            (None, 25088)             0         \n",
      "_________________________________________________________________\n",
      "dense (Dense)                (None, 256)               6422784   \n",
      "_________________________________________________________________\n",
      "dense_1 (Dense)              (None, 256)               65792     \n",
      "_________________________________________________________________\n",
      "dense_2 (Dense)              (None, 2)                 514       \n",
      "=================================================================\n",
      "Total params: 21,203,778\n",
      "Trainable params: 6,489,090\n",
      "Non-trainable params: 14,714,688\n",
      "_________________________________________________________________\n"
     ]
    }
   ],
   "source": [
    "model.summary()"
   ]
  },
  {
   "cell_type": "code",
   "execution_count": 16,
   "metadata": {},
   "outputs": [
    {
     "name": "stdout",
     "output_type": "stream",
     "text": [
      "Epoch 1/5\n",
      "60/60 [==============================] - 886s 15s/step - loss: 0.9046 - acc: 0.9411 - val_loss: 2.9306 - val_acc: 0.8182\n",
      "Epoch 2/5\n",
      "60/60 [==============================] - 841s 14s/step - loss: 0.7808 - acc: 0.9516 - val_loss: 2.9306 - val_acc: 0.8182\n",
      "Epoch 3/5\n",
      "60/60 [==============================] - 830s 14s/step - loss: 0.8569 - acc: 0.9468 - val_loss: 2.9306 - val_acc: 0.8182\n",
      "Epoch 4/5\n",
      "60/60 [==============================] - 856s 14s/step - loss: 0.7956 - acc: 0.9506 - val_loss: 2.9306 - val_acc: 0.8182\n",
      "Epoch 5/5\n",
      "60/60 [==============================] - 908s 15s/step - loss: 0.7640 - acc: 0.9526 - val_loss: 2.9306 - val_acc: 0.8182\n"
     ]
    }
   ],
   "source": [
    "hist = model.fit_generator(steps_per_epoch = 60, generator = traindata, validation_data = testdata, validation_steps = 100,epochs = 5 )\n",
    "model.save('vggclf.h5')"
   ]
  },
  {
   "cell_type": "code",
   "execution_count": null,
   "metadata": {},
   "outputs": [],
   "source": []
  },
  {
   "cell_type": "code",
   "execution_count": null,
   "metadata": {},
   "outputs": [],
   "source": []
  }
 ],
 "metadata": {
  "kernelspec": {
   "display_name": "Python 3",
   "language": "python",
   "name": "python3"
  },
  "language_info": {
   "codemirror_mode": {
    "name": "ipython",
    "version": 3
   },
   "file_extension": ".py",
   "mimetype": "text/x-python",
   "name": "python",
   "nbconvert_exporter": "python",
   "pygments_lexer": "ipython3",
   "version": "3.6.6"
  }
 },
 "nbformat": 4,
 "nbformat_minor": 2
}
