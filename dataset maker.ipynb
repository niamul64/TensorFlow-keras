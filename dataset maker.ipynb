{
 "cells": [
  {
   "cell_type": "code",
   "execution_count": 8,
   "metadata": {},
   "outputs": [],
   "source": [
    "import cv2\n",
    " \n",
    "# Opens the Video file\n",
    "cap= cv2.VideoCapture(\"Videos/2020-06-30_13-08-45_camera101.mp4\")\n",
    "i=0\n",
    "if cap.isOpened() == False:\n",
    "    print('error')\n",
    "while(cap.isOpened()):\n",
    "    ret, frame = cap.read()\n",
    "    if ret == False:\n",
    "        break\n",
    "\n",
    "    #cv2.imwrite('frame/kang'+str(i)+'.jpg',frame)\n",
    "    if ret == True:\n",
    "        cv2.imshow('frame', frame)\n",
    "        cv2.imwrite('frame/kang'+str(i)+'.jpg',frame)\n",
    "        if cv2.waitKey(10) and 0xFF == ord('q'):\n",
    "            break\n",
    "    i+=1\n",
    " \n",
    "cap.release()\n",
    "cv2.destroyAllWindows()"
   ]
  },
  {
   "cell_type": "code",
   "execution_count": null,
   "metadata": {},
   "outputs": [],
   "source": []
  }
 ],
 "metadata": {
  "kernelspec": {
   "display_name": "Python 3",
   "language": "python",
   "name": "python3"
  },
  "language_info": {
   "codemirror_mode": {
    "name": "ipython",
    "version": 3
   },
   "file_extension": ".py",
   "mimetype": "text/x-python",
   "name": "python",
   "nbconvert_exporter": "python",
   "pygments_lexer": "ipython3",
   "version": "3.6.6"
  }
 },
 "nbformat": 4,
 "nbformat_minor": 2
}
